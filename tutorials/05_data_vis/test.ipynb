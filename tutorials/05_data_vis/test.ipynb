{
 "cells": [
  {
   "cell_type": "code",
   "execution_count": 1,
   "metadata": {},
   "outputs": [
    {
     "name": "stderr",
     "output_type": "stream",
     "text": [
      "Matplotlib created a temporary config/cache directory at /tmp/matplotlib-k6w6rfjw because the default path (/home/nihargupte/.config/matplotlib) is not a writable directory; it is highly recommended to set the MPLCONFIGDIR environment variable to a writable directory, in particular to speed up the import of Matplotlib and to better support multiprocessing.\n"
     ]
    }
   ],
   "source": [
    "import os\n",
    "import yaml\n",
    "import pickle\n",
    "import matplotlib\n",
    "from multiprocessing import Pool\n",
    "\n",
    "import torch\n",
    "from torch.utils.data import DataLoader\n",
    "import numpy as np\n",
    "import matplotlib.ticker as ticker\n",
    "import torchvision\n",
    "from scipy import stats\n",
    "import matplotlib.pyplot as plt\n",
    "import bilby\n",
    "from tqdm.notebook import tqdm_notebook\n",
    "from chainconsumer import ChainConsumer\n",
    "from matplotlib import gridspec\n",
    "import scipy\n",
    "from PIL import Image\n",
    "import torch\n",
    "import seaborn as sns\n",
    "from ipywidgets import *\n",
    "import pandas as pd\n",
    "\n",
    "\n",
    "matplotlib.use('pdf')\n",
    "os.environ['MPLCONFIGDIR'] = '/home/local/nihargupte'\n",
    "import dingo.gw.dataset.generate_dataset \n",
    "from dingo.gw.inference import injection\n",
    "import dingo.gw.training.train_builders\n",
    "import dingo.gw.waveform_generator\n",
    "from dingo.gw.ASD_dataset.noise_dataset import ASDDataset\n",
    "import dingo.gw.dataset\n",
    "from dingo.gw.domains import build_domain\n",
    "import dingo.gw.inference\n",
    "from dingo.gw.transforms import SelectStandardizeRepackageParameters, RepackageStrainsAndASDS, UnpackDict, SampleExtrinsicParameters, GNPECoalescenceTimes, AddWhiteNoiseComplex\n",
    "from dingo.core.models import PosteriorModel\n",
    "import dingo.gw.domains\n",
    "from dingo.gw.inference.gw_samplers import GWSamplerGNPE, GWSampler\n",
    "\n",
    "%load_ext autoreload\n",
    "%autoreload 2\n",
    "%matplotlib ipympl"
   ]
  },
  {
   "cell_type": "code",
   "execution_count": 2,
   "metadata": {},
   "outputs": [
    {
     "data": {
      "application/vnd.jupyter.widget-view+json": {
       "model_id": "0b1ec0a2c0a8474a8ed454d757f5cc0f",
       "version_major": 2,
       "version_minor": 0
      },
      "text/plain": [
       "interactive(children=(FloatSlider(value=1.0, description='Parameter A', max=1.0), FloatSlider(value=0.0, descr…"
      ]
     },
     "metadata": {},
     "output_type": "display_data"
    },
    {
     "data": {
      "text/plain": [
       "<function __main__.update(w, d=0.0)>"
      ]
     },
     "execution_count": 2,
     "metadata": {},
     "output_type": "execute_result"
    },
    {
     "data": {
      "application/vnd.jupyter.widget-view+json": {
       "model_id": "652262400cec4fa09a3bb52281ac509f",
       "version_major": 2,
       "version_minor": 0
      },
      "image/png": "[encoded data removed]",
      "text/html": [
       "\n",
       "            <div style=\"display: inline-block;\">\n",
       "                <div class=\"jupyter-widgets widget-label\" style=\"text-align: center;\">\n",
       "                    Figure\n",
       "                </div>\n",
       "                <img src='data:image/png;base64,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' width=640.0/>\n",
       "            </div>\n",
       "        "
      ],
      "text/plain": [
       "Canvas(toolbar=Toolbar(toolitems=[('Home', 'Reset original view', 'home', 'home'), ('Back', 'Back to previous …"
      ]
     },
     "metadata": {},
     "output_type": "display_data"
    }
   ],
   "source": [
    "import numpy as np\n",
    "import matplotlib.pyplot as plt\n",
    "\n",
    "x = np.linspace(0, 2 * np.pi)\n",
    "fig = plt.figure()\n",
    "ax = fig.add_subplot(1, 1, 1)\n",
    "line, = ax.plot(x, np.sin(x))\n",
    "\n",
    "def update(w, d = 0.0):\n",
    "    line.set_ydata(d * np.sin(w * x))\n",
    "    fig.canvas.draw_idle()\n",
    "\n",
    "interact(update, w=FloatSlider(min=0, max=1, step=0.1, value=1.0, description='Parameter A'))"
   ]
  },
  {
   "cell_type": "code",
   "execution_count": 2,
   "metadata": {},
   "outputs": [
    {
     "name": "stdout",
     "output_type": "stream",
     "text": [
      "Putting posterior model to device cuda.\n",
      "Putting posterior model to device cuda.\n"
     ]
    }
   ],
   "source": [
    "models_dir = \"/home/local/nihargupte/dingo-devel/tutorials/03_aligned_spin\"\n",
    "waveform_generation_dir = '/home/local/nihargupte/dingo-devel/tutorials/03_aligned_spin/datasets/waveforms'\n",
    "\n",
    "seob_device, imrp_device = 3, 3\n",
    "# build posterior model\n",
    "torch.cuda.set_device(seob_device)\n",
    "seob_main_pm = PosteriorModel(\n",
    "    device=\"cuda\",\n",
    "    **{\"model_filename\": f\"{models_dir}/train_dir_SEOBNRv4HM_ROM_O1_1024/model_latest.pt\"},\n",
    ")\n",
    "\n",
    "seob_time_pm = PosteriorModel(\n",
    "    device='cuda',\n",
    "    **{\"model_filename\": f\"{models_dir}/train_dir_SEOBNRv4HM_ROM_O1_1024_time/model_latest.pt\"}\n",
    ")"
   ]
  },
  {
   "cell_type": "code",
   "execution_count": 3,
   "metadata": {},
   "outputs": [
    {
     "name": "stdout",
     "output_type": "stream",
     "text": [
      "\n",
      "Loading dataset from /home/local/nihargupte/dingo-devel/tutorials/03_aligned_spin/datasets/ASDs_new/1024_1/asds_O1.hdf5.\n"
     ]
    }
   ],
   "source": [
    "os.environ[\"LAL_DATA_PATH\"] = \"/home/local/nihargupte/dingo-devel/venv/lib/python3.9/site-packages/lalsimulation/\"\n",
    "# Have to stay in priors\n",
    "# also check mass with the scatter plot as well\n",
    "injection_generator = injection.Injection.from_posterior_model(seob_main_pm)\n",
    "asd_dataset = ASDDataset(\n",
    "    file_name=seob_main_pm.metadata[\"train_settings\"][\"training\"][\"stage_0\"][\n",
    "        \"asd_dataset_path\"\n",
    "    ]\n",
    ")\n",
    "asd = asd_dataset.sample_random_asds()\n",
    "injection_generator.asd = asd"
   ]
  },
  {
   "cell_type": "code",
   "execution_count": 29,
   "metadata": {},
   "outputs": [
    {
     "name": "stdout",
     "output_type": "stream",
     "text": [
      "GNPE parameters:  ['H1_time', 'L1_time']\n"
     ]
    }
   ],
   "source": [
    "injection_generator = injection.Injection.from_posterior_model(seob_main_pm)\n",
    "init_sampler = GWSampler(model=seob_time_pm)\n",
    "sampler = GWSamplerGNPE(model=seob_main_pm, init_sampler=init_sampler, num_iterations=10)"
   ]
  },
  {
   "cell_type": "code",
   "execution_count": 27,
   "metadata": {},
   "outputs": [],
   "source": [
    "charizard_hex = ('#cd5241', '#084152', '#eede7b', '#207394', '#eeb45a', '#e64110', '#ff524a', '#f6a410', '#08398b', '#626262', '#833118')\n",
    "plt.rcParams['text.usetex'] = False\n",
    "plt.rcParams['legend.fontsize'] = 10\n",
    "plt.rcParams['font.size'] = 15\n",
    "plt.rcParams['xtick.major.size'] = 5.0\n",
    "plt.rcParams['xtick.minor.size'] = 3.0\n",
    "plt.rcParams['ytick.major.size'] = 5.0\n",
    "plt.rcParams['ytick.minor.size'] = 3.0\n",
    "plt.rcParams['axes.prop_cycle'] = plt.cycler(color=charizard_hex)"
   ]
  },
  {
   "cell_type": "code",
   "execution_count": 26,
   "metadata": {},
   "outputs": [
    {
     "name": "stdout",
     "output_type": "stream",
     "text": [
      "\n",
      "Loading dataset from /home/local/nihargupte/dingo-devel/tutorials/03_aligned_spin/datasets/ASDs_new/1024_1/asds_O1.hdf5.\n"
     ]
    },
    {
     "data": {
      "application/vnd.jupyter.widget-view+json": {
       "model_id": "63cdfef0ebb64a268879c33589810e65",
       "version_major": 2,
       "version_minor": 0
      },
      "text/plain": [
       "interactive(children=(BoundedFloatText(value=0.5625, description='mass_ratio', max=1.0, min=0.125), BoundedFlo…"
      ]
     },
     "metadata": {},
     "output_type": "display_data"
    },
    {
     "data": {
      "text/plain": [
       "<function __main__.update(mass_ratio, chirp_mass, chi_1, chi_2, phase, theta_jn, psi, ra, dec, geocent_time, luminosity_distance, vars)>"
      ]
     },
     "execution_count": 26,
     "metadata": {},
     "output_type": "execute_result"
    }
   ],
   "source": [
    "N = 1\n",
    "def update(\n",
    "    mass_ratio,\n",
    "    chirp_mass,\n",
    "    chi_1,\n",
    "    chi_2,\n",
    "    phase,\n",
    "    theta_jn,\n",
    "    psi,\n",
    "    ra,\n",
    "    dec,\n",
    "    geocent_time,\n",
    "    luminosity_distance,\n",
    "    vars,\n",
    "):\n",
    "\n",
    "    vars.injection_generator\n",
    "    theta = {\n",
    "        \"mass_ratio\": mass_ratio,\n",
    "        \"chirp_mass\": chirp_mass,\n",
    "        \"chi_1\": chi_1,\n",
    "        \"chi_2\": chi_2,\n",
    "        \"phase\": phase,\n",
    "        \"theta_jn\": theta_jn,\n",
    "        \"psi\": psi,\n",
    "        \"ra\": ra,\n",
    "        \"dec\": dec,\n",
    "        \"geocent_time\": geocent_time,\n",
    "        \"luminosity_distance\": luminosity_distance,\n",
    "    }\n",
    "    strain_data = injection_generator.injection(theta)\n",
    "\n",
    "    # Plotting Data\n",
    "    fig, axes = plt.subplots(1, 2, figsize=(12, 4))\n",
    "    [axes[i].grid(True) for i in range(axes.shape[0])]\n",
    "    strain_data_no_noise = injection_generator.signal(theta)\n",
    "    axes[0].set_xlim([20, 1024])\n",
    "    axes[0].set_ylim([1e-26, 1e-18])\n",
    "    axes[0].set_xscale('log')\n",
    "    axes[0].set_yscale('log')\n",
    "    axes[0].plot(vars.sampler.domain.sample_frequencies, np.abs(strain_data[\"waveform\"][\"H1\"]), color=vars.charizard_hex[0])\n",
    "    axes[0].plot(vars.sampler.domain.sample_frequencies, np.abs(strain_data_no_noise[\"waveform\"][\"H1\"]), color=vars.charizard_hex[1])\n",
    "\n",
    "    axes[1].set_xlim([20, 1024])\n",
    "    axes[1].set_ylim([1e-26, 1e-18])\n",
    "    axes[1].set_xscale('log')\n",
    "    axes[1].set_yscale('log')\n",
    "    axes[1].plot(vars.sampler.domain.sample_frequencies, injection_generator.asd[\"H1\"], color=vars.charizard_hex[2])\n",
    "\n",
    "    sampler.context = strain_data\n",
    "    sampler.run_sampler(\n",
    "        num_samples=10_000,\n",
    "        batch_size=10_000,\n",
    "    )\n",
    "    c = ChainConsumer()\n",
    "    c.add_chain(sampler.samples, color=charizard_hex[0], name='dingo')\n",
    "    c.configure(\n",
    "        linestyles=[\"-\"] * N,\n",
    "        linewidths=[1.5] * N,\n",
    "        sigmas=[np.sqrt(2) * scipy.special.erfinv(x) for x in [0.5, 0.9]],\n",
    "        shade=[False] + [True] * (N - 1),\n",
    "        shade_alpha=0.3,\n",
    "        bar_shade=False,\n",
    "        label_font_size=10,\n",
    "        tick_font_size=10,\n",
    "        usetex=False,\n",
    "        legend_kwargs={\"fontsize\": 30},\n",
    "        kde=0.7\n",
    "    )\n",
    "\n",
    "    fig = c.plotter.plot(truth=theta)\n",
    "\n",
    "asd_dataset = ASDDataset(\n",
    "    file_name=seob_main_pm.metadata[\"train_settings\"][\"training\"][\"stage_0\"][\n",
    "        \"asd_dataset_path\"\n",
    "    ]\n",
    ")\n",
    "asd = asd_dataset.sample_random_asds()\n",
    "injection_generator.asd = asd\n",
    "\n",
    "class AttrDict(dict):\n",
    "    def __init__(self, *args, **kwargs):\n",
    "        super(AttrDict, self).__init__(*args, **kwargs)\n",
    "        self.__dict__ = self\n",
    "\n",
    "\n",
    "vars = {\n",
    "    \"charizard_hex\": charizard_hex,\n",
    "    \"injection_generator\": injection_generator,\n",
    "    \"sampler\": sampler,\n",
    "}\n",
    "vars = AttrDict(vars)\n",
    "kwargs = {\n",
    "    k: BoundedFloatText(min=v.minimum, max=v.maximum, value=(v.minimum + v.maximum) / 2)\n",
    "    for k, v in injection_generator.prior.items()\n",
    "}\n",
    "interact(update, vars=fixed(vars), **kwargs)\n"
   ]
  }
 ],
 "metadata": {
  "interpreter": {
   "hash": "ac262403b805b9d50624d86d02e0c0ebd3de11edc17ff3a58e5fe0ebb715a499"
  },
  "kernelspec": {
   "display_name": "Python 3.9.5 ('venv': venv)",
   "language": "python",
   "name": "python3"
  },
  "language_info": {
   "codemirror_mode": {
    "name": "ipython",
    "version": 3
   },
   "file_extension": ".py",
   "mimetype": "text/x-python",
   "name": "python",
   "nbconvert_exporter": "python",
   "pygments_lexer": "ipython3",
   "version": "3.9.5"
  },
  "orig_nbformat": 4
 },
 "nbformat": 4,
 "nbformat_minor": 2
}
