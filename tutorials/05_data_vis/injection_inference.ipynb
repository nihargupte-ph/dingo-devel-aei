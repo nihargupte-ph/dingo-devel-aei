{
 "cells": [
  {
   "cell_type": "code",
   "execution_count": null,
   "metadata": {},
   "outputs": [],
   "source": [
    "import numpy as np\n",
    "import os\n",
    "\n",
    "import torch\n",
    "import numpy as np\n",
    "import scipy\n",
    "from chainconsumer import ChainConsumer\n",
    "\n",
    "\n",
    "from dingo.gw.ASD_dataset.noise_dataset import ASDDataset\n",
    "from dingo.core.models import PosteriorModel\n",
    "from dingo.gw.inference import injection\n",
    "from dingo.gw.inference.gw_samplers import GWSamplerGNPE, GWSampler\n"
   ]
  },
  {
   "cell_type": "code",
   "execution_count": null,
   "metadata": {},
   "outputs": [],
   "source": [
    "# if you have a custom LAL_DATA_PATH otherwise you don't need this\n",
    "os.environ[\"LAL_DATA_PATH\"] = \"/home/local/nihargupte/dingo-devel/venv/lib/python3.9/site-packages/lalsimulation/\"\n",
    "\n",
    "# Insert your time network here\n",
    "time_network_path = \"/home/local/nihargupte/dingo-devel/tutorials/03_aligned_spin/train_dir_SEOBNRv4HM_ROM_O1_2048_lr_time/model_latest.pt\"\n",
    "# Insert your main network here\n",
    "gnpe_network_path = \"/home/local/nihargupte/dingo-devel/tutorials/03_aligned_spin/train_dir_SEOBNRv4HM_ROM_O1_2048_lr/model_latest.pt\"\n",
    "\n",
    "torch.cuda.set_device(5)\n",
    "time_pm = main_pm = PosteriorModel(\n",
    "    device=\"cuda\",\n",
    "    **{\"model_filename\": time_network_path},\n",
    "    load_training_info=False,\n",
    ")\n",
    "\n",
    "main_pm = PosteriorModel(\n",
    "    device=\"cuda\",\n",
    "    **{\"model_filename\": gnpe_network_path},\n",
    "    load_training_info=False,\n",
    ")\n",
    "\n",
    "injection_generator = injection.Injection.from_posterior_model(main_pm)\n",
    "\n",
    "# Opening up a asd\n",
    "# If you have a specific hdf5 asd generated through the dingo.gw.ASD_Dataset.generate_dataset you can put it here. Otherwise you can always use the asd dataset that\n",
    "# the network was trained with which you can access through\n",
    "# file_name = main_pm.metadata[\"train_settings\"][\"training\"][\"stage_0\"][\"asd_dataset_path\"]\n",
    "file_name = \"/home/local/nihargupte/dingo-devel/tutorials/03_aligned_spin/datasets/ASDs_new/1024_1/asds_O1.hdf5\"\n",
    "asd_dataset = ASDDataset(file_name=file_name)\n",
    "asd = asd_dataset.sample_random_asds()\n",
    "injection_generator.asd = asd\n",
    "# Don't want to pass whitened data to the GW sampler\n",
    "injection_generator.whiten = False\n",
    "\n",
    "# You can insert whichever parameters you want here, I am using aligned spins so it is chi_1, chi_2 but if you are using precession this would be the a_1, a_2, etc.\n",
    "intrinsic_parameters = {\n",
    "    \"mass_1\": 40.0,\n",
    "    \"mass_2\": 31.6,\n",
    "    \"chi_1\": 0,\n",
    "    \"chi_2\": 0,\n",
    "}\n",
    "\n",
    "extrinsic_parameters = {\n",
    "    \"phase\": 0,  # rad\n",
    "    \"theta_jn\": np.pi/3,  # rad\n",
    "    \"psi\": 0,  # rad\n",
    "    \"ra\": 0,  # rad\n",
    "    \"dec\": 0,  # rad\n",
    "    \"geocent_time\": 0.0,  # s\n",
    "    \"luminosity_distance\": 600,  # Mpc\n",
    "}\n",
    "\n",
    "\n",
    "theta = {**intrinsic_parameters, **extrinsic_parameters}\n",
    "\n",
    "# This is the object we want to do inference on \n",
    "strain_data = injection_generator.injection(theta)\n"
   ]
  },
  {
   "cell_type": "code",
   "execution_count": null,
   "metadata": {},
   "outputs": [],
   "source": [
    "# Doing the inference\n",
    "theta = strain_data[\"parameters\"].copy()\n",
    "init_sampler = GWSampler(model=time_pm)\n",
    "sampler = GWSamplerGNPE(model=main_pm, init_sampler=init_sampler, num_iterations=30)\n",
    "sampler.context = strain_data\n",
    "sampler.run_sampler(\n",
    "    num_samples=50_000,\n",
    "    batch_size=10_000,\n",
    ")"
   ]
  },
  {
   "cell_type": "code",
   "execution_count": null,
   "metadata": {},
   "outputs": [],
   "source": [
    "%matplotlib inline\n",
    "\n",
    "N = 1\n",
    "c = ChainConsumer()\n",
    "c.add_chain(sampler.samples, name='dingo')\n",
    "c.configure(\n",
    "    linestyles=[\"-\"] * N,\n",
    "    linewidths=[1.5] * N,\n",
    "    sigmas=[np.sqrt(2) * scipy.special.erfinv(x) for x in [0.5, 0.9]],\n",
    "    shade=[False] + [True] * (N - 1),\n",
    "    shade_alpha=0.3,\n",
    "    bar_shade=False,\n",
    "    label_font_size=10,\n",
    "    tick_font_size=10,\n",
    "    usetex=False,\n",
    "    legend_kwargs={\"fontsize\": 30},\n",
    "    kde=0.7 # NOTE something to beware of is the KDE, sometimes because it doesn't understand the periodic boundary condition of ra and dec it can give weird results\n",
    "            # in this case just remove the KDE by removing `kde=0.7`\n",
    ")\n",
    "\n",
    "c.plotter.plot(truth=theta)"
   ]
  }
 ],
 "metadata": {
  "kernelspec": {
   "display_name": "Python 3.9.5 ('venv': venv)",
   "language": "python",
   "name": "python3"
  },
  "language_info": {
   "codemirror_mode": {
    "name": "ipython",
    "version": 3
   },
   "file_extension": ".py",
   "mimetype": "text/x-python",
   "name": "python",
   "nbconvert_exporter": "python",
   "pygments_lexer": "ipython3",
   "version": "3.9.5"
  },
  "orig_nbformat": 4,
  "vscode": {
   "interpreter": {
    "hash": "6fbc4fdd35c4ffc3b68ecce6c5d0e3308c2781a0bbd8e1a6964e3ccc7a75fe6d"
   }
  }
 },
 "nbformat": 4,
 "nbformat_minor": 2
}
