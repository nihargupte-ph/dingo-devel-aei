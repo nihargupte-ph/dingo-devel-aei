{
 "cells": [
  {
   "cell_type": "markdown",
   "id": "1f01028e-f89f-48cb-9a39-f1b6148eb80b",
   "metadata": {},
   "source": [
    "# Neural network architecture"
   ]
  }
 ],
 "metadata": {
  "kernelspec": {
   "display_name": "Python 3 (ipykernel)",
   "language": "python",
   "name": "python3"
  },
  "language_info": {
   "codemirror_mode": {
    "name": "ipython",
    "version": 3
   },
   "file_extension": ".py",
   "mimetype": "text/x-python",
   "name": "python",
   "nbconvert_exporter": "python",
   "pygments_lexer": "ipython3",
   "version": "3.9.4"
  }
 },
 "nbformat": 4,
 "nbformat_minor": 5
}
